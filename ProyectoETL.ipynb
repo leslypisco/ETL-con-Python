{
 "cells": [
  {
   "cell_type": "markdown",
   "id": "fa7418d2-173d-4896-ab82-71939c61b0a6",
   "metadata": {
    "tags": []
   },
   "source": [
    "# Librerias"
   ]
  },
  {
   "cell_type": "code",
   "execution_count": 1,
   "id": "d96f5842-0317-432c-aa57-c3369cfaac43",
   "metadata": {},
   "outputs": [],
   "source": [
    "#librerias\n",
    "import sqlalchemy\n",
    "from sqlalchemy import create_engine\n",
    "from sqlalchemy import Table, Column, Integer, String, MetaData, ForeignKey\n",
    "from sqlalchemy import inspect"
   ]
  },
  {
   "cell_type": "markdown",
   "id": "ca63fbd4-aca7-4bcc-a10e-48a67fcde2cb",
   "metadata": {
    "tags": []
   },
   "source": [
    "# Conexion"
   ]
  },
  {
   "cell_type": "code",
   "execution_count": 2,
   "id": "bba552d6-304f-4a73-9315-129c5143b513",
   "metadata": {},
   "outputs": [
    {
     "data": {
      "text/plain": [
       "Engine(sqlite:///chinook.db)"
      ]
     },
     "execution_count": 2,
     "metadata": {},
     "output_type": "execute_result"
    }
   ],
   "source": [
    "#Conectar el motor al archivo de la base de datos a usar\n",
    "engine = create_engine('sqlite:///chinook.db')\n",
    "engine"
   ]
  },
  {
   "cell_type": "markdown",
   "id": "2b0086fe-a6f4-48f0-aa00-72c9308bdf77",
   "metadata": {
    "tags": []
   },
   "source": [
    "# Extract"
   ]
  },
  {
   "cell_type": "code",
   "execution_count": 3,
   "id": "357e7a75-5a4f-4964-af4e-b02a89d288c7",
   "metadata": {},
   "outputs": [
    {
     "data": {
      "text/plain": [
       "[]"
      ]
     },
     "execution_count": 3,
     "metadata": {},
     "output_type": "execute_result"
    }
   ],
   "source": [
    "metadata = MetaData()\n",
    "metadata.create_all(engine) \n",
    "inspector = inspect(engine) \n",
    "inspector.get_columns('artists')\n",
    "inspector.get_columns('albums')\n",
    "inspector.get_columns('tracks')\n",
    "inspector.get_columns('invoice_items')\n",
    "inspector.get_columns('invoices')\n",
    "inspector.get_columns('customers')\n",
    "inspector.get_columns('employees')\n",
    "inspector.get_columns('media_types')\n",
    "inspector.get_columns('genres')\n",
    "inspector.get_columns('playlists')\n",
    "inspector.get_columns('playlists_track')"
   ]
  },
  {
   "cell_type": "markdown",
   "id": "9b86871f-d15e-437f-8348-b6351b798b05",
   "metadata": {},
   "source": [
    "* ***Consulta 1***"
   ]
  },
  {
   "cell_type": "code",
   "execution_count": 4,
   "id": "60a587e0-5e15-4c14-bc84-836c24d8de23",
   "metadata": {},
   "outputs": [],
   "source": [
    "#Se desea saber la cantidad de pistas que pertenecen a cada artista \n",
    "#junto a la suma del precio unitario de las pistas.\n",
    "#Tambien se desea consultar el año de facturacion del 2010 la suma y que sean entre 15 y 20\n",
    "#El empleado encargado de la venta debe ser de Canada. A todo ello se debe de sacar el promedio \n",
    "#de las facturas\n",
    "import pandas as pd\n",
    "c1 = pd.read_sql_query(\"\"\"select artists.Name AS \"Artista\",  \n",
    "count(tracks.AlbumId) AS \"Num de Pistas\",\n",
    "Sum(tracks.UnitPrice) AS \"Suma de las pistas\",\n",
    "substr(invoices.InvoiceDate,0,5) AS \"Año\",\n",
    "sum(invoices.Total) AS \"Facturacion\",\n",
    "employees.Country AS \"Pais del empleado\"\n",
    "from artists INNER JOIN albums\n",
    "ON artists.ArtistId = albums.ArtistId INNER JOIN tracks\n",
    "ON albums.AlbumId= tracks.AlbumId INNER JOIN invoice_items\n",
    "ON tracks.TrackId=invoice_items.TrackId INNER JOIN invoices\n",
    "ON invoice_items.InvoiceId=invoices.InvoiceId INNER JOIN customers\n",
    "ON invoices.CustomerId= customers.CustomerId INNER JOIN employees\n",
    "ON customers.SupportRepId= employees.EmployeeId\n",
    "WHERE invoices.InvoiceDate like '2010%' AND employees.Country== 'Canada'\n",
    "GROUP BY albums.ArtistId\n",
    "HAVING AVG(invoices.Total) BETWEEN 15 AND 20\n",
    "ORDER BY artists.Name ASC;\"\"\", con=engine.connect())\n"
   ]
  },
  {
   "cell_type": "markdown",
   "id": "83edc5cd-c427-4f02-bcd0-ce73f3deebbf",
   "metadata": {},
   "source": [
    "* ***Consulta 2***"
   ]
  },
  {
   "cell_type": "code",
   "execution_count": 5,
   "id": "1923782e-28d7-47f6-807e-fda2f35f0a96",
   "metadata": {},
   "outputs": [],
   "source": [
    "#Se desea realizar una consulta en la que muestre la lista de reproduccion junto a la cantidad de pistas que contiene cada una.\n",
    "#Colocar el monto total de las facturas generadas de las ventas. Permitir la impresion del nombre del empleado a cargo, generar \n",
    "#una visualizacion de la compañia del cliente se debe de tener en cuenta que este no debe de estar vacio.\n",
    "#Por ultimo el numero de la cantidad de pistas deben de ser mayor a dos\n",
    "import pandas as pd\n",
    "c2 = pd.read_sql_query(\"\"\"select playlists.Name AS \"List de reproducion\",\n",
    "        count(tracks.TrackId) AS \"Num de pistas\",\n",
    "        SUM(invoices.Total) AS \"Total Ventas\",\n",
    "        customers.Company,\n",
    "        employees.FirstName AS \"Nom empleado\"\n",
    "from playlists \n",
    "INNER JOIN playlist_track\n",
    "ON playlists.PlaylistId= playlist_track.PlaylistId \n",
    "INNER JOIN tracks\n",
    "ON playlist_track.TrackId= tracks.TrackId \n",
    "INNER JOIN invoice_items\n",
    "ON tracks.TrackId=invoice_items.TrackId \n",
    "INNER JOIN invoices\n",
    "ON invoice_items.InvoiceId=invoices.InvoiceId \n",
    "INNER JOIN customers\n",
    "ON invoices.CustomerId= customers.CustomerId \n",
    "INNER JOIN employees\n",
    "ON customers.SupportRepId= employees.EmployeeId\n",
    "WHERE customers.Company <> 'NULL'\n",
    "GROUP BY playlists.Name\n",
    "HAVING count(tracks.TrackId) > 2;\"\"\", con=engine.connect())\n"
   ]
  },
  {
   "cell_type": "markdown",
   "id": "8fc55ed6-b65a-4b5b-8389-a9e94d5faf51",
   "metadata": {},
   "source": [
    "* ***Consulta 3***"
   ]
  },
  {
   "cell_type": "code",
   "execution_count": 6,
   "id": "c06021ae-c8a7-4cc9-9224-b7d4b9cb551f",
   "metadata": {},
   "outputs": [],
   "source": [
    "#Proporcione una consulta que muestre los tipos de medios cuando la suma total por las factutas sean mayores a 25\n",
    "#Tambien se deben especificar la cantidad de facturas generadas por cada medio y mencionar nombre y titulo del empleado a cargo.\n",
    "import pandas as pd\n",
    "c3 = pd.read_sql_query(\"\"\"select  media_types.Name AS \"Tipo de Medio\",\n",
    "SUM(invoices.Total) AS \"Suma total\",\n",
    "count(invoices.InvoiceId) AS \"Cantidad Facturas\",\n",
    "genres.Name AS \"Genero\",\n",
    "tracks.Name AS \"Pista\",\n",
    "employees.FirstName AS \"Nombre empleado\",\n",
    "employees.Title AS \"Titulo del empleado\"\n",
    "FROM media_types INNER JOIN tracks\n",
    "ON media_types.MediaTypeId = tracks.MediaTypeId INNER JOIN genres\n",
    "ON tracks.GenreId=genres.GenreId INNER JOIN invoice_items\n",
    "ON tracks.TrackId= invoice_items.TrackId INNER JOIN invoices\n",
    "ON invoice_items.InvoiceId=invoices.InvoiceId INNER JOIN customers\n",
    "ON invoices.CustomerId= customers.CustomerId INNER JOIN employees\n",
    "ON customers.SupportRepId= employees.EmployeeId\n",
    "GROUP BY media_types.Name\n",
    "HAVING  SUM(invoices.Total) > 25;\"\"\", con=engine.connect())"
   ]
  },
  {
   "cell_type": "markdown",
   "id": "1b753d8c-f5c0-4422-8933-48c7f5eade70",
   "metadata": {},
   "source": [
    "* ***Consulta 4***"
   ]
  },
  {
   "cell_type": "code",
   "execution_count": 7,
   "id": "bb87512a-f64d-4835-9b3c-7b6b1c484521",
   "metadata": {},
   "outputs": [],
   "source": [
    "#Proporcione una consulta en la que se muestren los generos y la cantidad de pistas que contienen,\n",
    "#Tambien se debe mencionar el medio y las listas de reproducciones a las que pertenece.\n",
    "#Pero se debe de tener un control del conteo de las pistas que sean mayores a 100.\n",
    "import pandas as pd\n",
    "c4 = pd.read_sql_query(\"\"\"select genres.Name AS \"Genero\",\n",
    "artists.Name AS \"Artista\", \n",
    "COUNT (albums.ArtistId) AS \"Numb pista\",\n",
    "media_types.Name AS \"Tipo de medio\",\n",
    "playlists.Name AS \"Lista de reproduccion\"\n",
    "FROM artists INNER JOIN albums\n",
    "ON artists.ArtistId= albums.ArtistId INNER JOIN tracks\n",
    "ON albums.AlbumId = tracks.AlbumId INNER JOIN genres \n",
    "ON tracks.GenreId= genres.GenreId INNER JOIN media_types\n",
    "ON media_types.MediaTypeId = tracks.MediaTypeId INNER JOIN playlist_track\n",
    "ON tracks.TrackId= playlist_track.TrackId INNER JOIN playlists\n",
    "ON playlist_track.PlaylistId= playlists.PlaylistId\n",
    "GROUP BY genres.Name\n",
    "HAVING COUNT (albums.ArtistId) >100;\"\"\", con=engine.connect())"
   ]
  },
  {
   "cell_type": "markdown",
   "id": "dae9a35f-fc34-4103-9b25-37595efd73a9",
   "metadata": {},
   "source": [
    "* ***Consulta 5***"
   ]
  },
  {
   "cell_type": "code",
   "execution_count": 8,
   "id": "7ab35a90-4a90-4825-8b7d-9fd4931cca4f",
   "metadata": {},
   "outputs": [],
   "source": [
    "#Se desea saber la cantidad de reportes que realizaron los empleados que vendieron pistas del artista Santana\n",
    "import pandas as pd\n",
    "c5 = pd.read_sql_query(\"\"\"select artists.Name AS \"Artista\",  \n",
    "employees.LastName,\n",
    "count(customers.SupportRepId)AS \"Cantidad de reportes\",\n",
    "employees.EmployeeId\n",
    "from artists INNER JOIN albums\n",
    "ON artists.ArtistId = albums.ArtistId INNER JOIN tracks\n",
    "ON albums.AlbumId= tracks.AlbumId INNER JOIN invoice_items\n",
    "ON tracks.TrackId=invoice_items.TrackId INNER JOIN invoices\n",
    "ON invoice_items.InvoiceId=invoices.InvoiceId INNER JOIN customers\n",
    "ON invoices.CustomerId= customers.CustomerId INNER JOIN employees\n",
    "ON customers.SupportRepId= employees.EmployeeId\n",
    "WHERE artists.Name like 'Santana'\n",
    "GROUP BY customers.SupportRepId;\"\"\", con=engine.connect())"
   ]
  },
  {
   "cell_type": "markdown",
   "id": "4507e041-efeb-41d7-8bd3-fc29ba23d2bc",
   "metadata": {},
   "source": [
    "* ***Consulta 6***"
   ]
  },
  {
   "cell_type": "code",
   "execution_count": 9,
   "id": "af7cb9bb-af72-46c4-9b14-a93f82c89d71",
   "metadata": {},
   "outputs": [],
   "source": [
    "#Proporcione una consulta del con el nombre e Id del cliente que haya comprado una o más pistas esta debe incluir \n",
    "#el total de pistas aquiridas (debe ser verificada con la cantidad de Linea de Factura), \n",
    "#el precio total de dichas pistas (esta debe ser verificada con el total de la factura), \n",
    "#en que pais fue adquirida la compra, \n",
    "#el total de bytes de las pistas y el agente que antendio la venta pero tambien se debe de verificar a que artista pertenece cada venta\n",
    "import pandas as pd\n",
    "c6 = pd.read_sql_query(\"\"\"SELECT  i.InvoiceId,\n",
    "        c.CustomerId,\n",
    "        c.LastName AS Cliente,\n",
    "        COUNT(i.InvoiceId) AS Total_Pistas,        \n",
    "        SUM(t.UnitPrice) AS Precio_Total,        \n",
    "        i.BillingCountry AS Pais,\n",
    "        SUM(t.Bytes) AS Total_Bytes,\n",
    "        SUM(il.Quantity) AS Cantidad_Pistas,\n",
    "        e.LastName AS Agente,\n",
    "        i.Total AS Total_Factura,\n",
    "        a.Name AS Artista\n",
    "FROM artists a INNER JOIN albums ab\n",
    "ON a.ArtistId  = ab.ArtistId INNER JOIN tracks t\n",
    "ON ab.AlbumId= t.AlbumId INNER JOIN invoice_items il\n",
    "ON t.TrackId=il.TrackId INNER JOIN invoices i\n",
    "ON il.InvoiceId=i.InvoiceId INNER JOIN customers c\n",
    "ON i.CustomerId= c.CustomerId INNER JOIN employees e\n",
    "ON c.SupportRepId= e.EmployeeId\n",
    "GROUP BY  i.InvoiceId;\"\"\", con=engine.connect())"
   ]
  },
  {
   "cell_type": "markdown",
   "id": "f3ce7782-9b39-4cc2-9d72-dac567875835",
   "metadata": {},
   "source": [
    "* ***Consulta 7***"
   ]
  },
  {
   "cell_type": "code",
   "execution_count": 10,
   "id": "a1233ba6-2788-47db-a36a-8d6ee9446c4d",
   "metadata": {},
   "outputs": [],
   "source": [
    "#Que empleado vendió el genero JAzZ en el año 2009, muestre la cantidad total vendida del género\n",
    "import pandas as pd\n",
    "c7 = pd.read_sql_query(\"\"\"SELECT  employees.EmployeeId,\n",
    "        employees.LastName,\n",
    "        employees.FirstName, \n",
    "        SUBSTR(invoices.InvoiceDate, 0,5) AS Año,\n",
    "        genres.Name AS Genero,\n",
    "        COUNT(genres.Name) AS Total_Genero\n",
    "FROM employees \n",
    "INNER JOIN customers \n",
    "ON employees.EmployeeId = customers.SupportRepId\n",
    "INNER JOIN invoices \n",
    "ON customers.CustomerId = invoices.CustomerId\n",
    "INNER JOIN invoice_items \n",
    "ON invoice_items.InvoiceId = invoices.InvoiceId\n",
    "INNER JOIN tracks\n",
    "ON tracks.TrackId = invoice_items.TrackId\n",
    "INNER JOIN albums \n",
    "ON albums.AlbumId = tracks.AlbumId\n",
    "INNER JOIN artists \n",
    "ON artists.ArtistId = albums.ArtistId\n",
    "INNER JOIN genres\n",
    "ON genres.GenreId = tracks.GenreId\n",
    "WHERE invoices.InvoiceDate LIKE '2009%' AND genres.Name = 'Jazz'\n",
    "GROUP BY employees.EmployeeId\n",
    "ORDER BY COUNT(genres.Name) DESC;\n",
    "\"\"\", con=engine.connect())"
   ]
  },
  {
   "cell_type": "markdown",
   "id": "6dc8634b-7856-4edf-bbbc-6968a6dda6cd",
   "metadata": {},
   "source": [
    "* ***Consulta 8***"
   ]
  },
  {
   "cell_type": "code",
   "execution_count": 11,
   "id": "ee2736e0-4dcf-4028-b8e2-e6fb4e1b739c",
   "metadata": {},
   "outputs": [],
   "source": [
    "#Proporcione una consulta que muestre las tres pistas más vendidas en el año 2011, \n",
    "#incluya el Id de la factura y el nombre del album,artista, genero y tipo de medio al que pertenece.\n",
    "import pandas as pd\n",
    "c8 = pd.read_sql_query(\"\"\"SELECT  i.InvoiceId,\n",
    "        I.CustomerId,\n",
    "        t.Name AS Nombre_Pista, \n",
    "        COUNT(it.invoiceLineId) AS Total_Comprado, \n",
    "        SUBSTR(i.invoiceDate, 0,5) AS Año,\n",
    "        a.Title AS Album,\n",
    "        ar.Name AS Nombre_Artista,\n",
    "        g.Name AS Género,\n",
    "        mt.Name AS Tipo_Medio\n",
    "FROM tracks t\n",
    "INNER JOIN invoice_items it\n",
    "ON t.TrackId = it.TrackId\n",
    "INNER JOIN invoices i\n",
    "ON it.InvoiceId = i.InvoiceId\n",
    "INNER JOIN albums a\n",
    "ON a.AlbumId = t.AlbumId\n",
    "INNER JOIN artists ar\n",
    "ON ar.ArtistId = a.ArtistId\n",
    "INNER JOIN genres g\n",
    "ON g.GenreId = t.GenreId\n",
    "INNER JOIN media_types mt\n",
    "ON mt.MediaTypeId = t.MediaTypeId\n",
    "WHERE i.invoiceDate LIKE '2011%'\n",
    "GROUP BY t.Name \n",
    "ORDER BY COUNT(it.invoiceLineId)\n",
    "DESC LIMIT 3;\n",
    "\"\"\", con=engine.connect())"
   ]
  },
  {
   "cell_type": "markdown",
   "id": "502575e3-7787-40d2-b2b3-53d318d4fc22",
   "metadata": {},
   "source": [
    "* ***Consulta 9***"
   ]
  },
  {
   "cell_type": "code",
   "execution_count": 12,
   "id": "7ddc989e-30f4-4379-9907-1f89108d5e30",
   "metadata": {},
   "outputs": [],
   "source": [
    "#Prporcione una consulta que muestre a los clientes que compraron más de 5 veces el tipo de media MPEG audio file,\n",
    "#mostrando el total de tracks adquiros por el género Rock en el año 2010 debe mostrar el nombre del agente que atendio al cliente\n",
    "import pandas as pd\n",
    "c9 = pd.read_sql_query(\"\"\"SELECT  customers.CustomerId,\n",
    "        customers.LastName AS Cliente,\n",
    "        COUNT(tracks.MediaTypeId) Total_Tracks,\n",
    "        genres.Name AS Genero,\n",
    "        SUBSTR(invoices.invoiceDate, 0,5) AS Año,\n",
    "        media_types.Name AS Tipo_Medio,\n",
    "        employees.LastName AS Agente\n",
    "FROM media_types\n",
    "INNER JOIN tracks\n",
    "ON media_types.MediaTypeId = tracks.MediaTypeId\n",
    "INNER JOIN genres\n",
    "ON genres.GenreId = tracks.GenreId\n",
    "INNER JOIN invoice_items\n",
    "ON invoice_items.TrackId = tracks.TrackId\n",
    "INNER JOIN invoices\n",
    "ON invoices.InvoiceId = invoice_items.InvoiceId\n",
    "INNER JOIN customers\n",
    "ON customers.CustomerId = invoices.CustomerId\n",
    "INNER JOIN employees \n",
    "ON employees.EmployeeId = customers.SupportRepId\n",
    "WHERE invoices.InvoiceDate LIKE '2010%' AND media_types.Name = 'MPEG audio file' AND genres.Name = 'Rock'\n",
    "GROUP BY  customers.CustomerId\n",
    "HAVING COUNT(media_types.MediaTypeId) > 5;\"\"\", con=engine.connect())"
   ]
  },
  {
   "cell_type": "markdown",
   "id": "8c517c98-bc49-4822-9909-10f0e1e4d7f2",
   "metadata": {},
   "source": [
    "* ***Consulta 10***"
   ]
  },
  {
   "cell_type": "code",
   "execution_count": 13,
   "id": "ac25a0d0-1bef-49be-abf4-a71633f33dad",
   "metadata": {},
   "outputs": [],
   "source": [
    "#Proporcione una consulta que muestre el tracks y bytes ocupados en la Lista de Reproduccion Music \n",
    "#cuyo album sea Balls to the Wall y qué cliente adquirio dicha lista con ese track\n",
    "import pandas as pd\n",
    "c10 = pd.read_sql_query(\"\"\"SELECT DISTINCT playlists.PlaylistId,\n",
    "        playlists.Name,\n",
    "        tracks.TrackId,\n",
    "        tracks.Name,\n",
    "        tracks.Bytes,\n",
    "        albums.Title,\n",
    "        customers.LastName\n",
    "FROM playlists\n",
    "INNER JOIN playlist_track\n",
    "ON playlists.PlaylistId = playlist_track.PlaylistId\n",
    "INNER JOIN tracks\n",
    "ON tracks.TrackId = playlist_track.TrackId\n",
    "INNER JOIN albums\n",
    "ON albums.AlbumId = tracks.TrackId\n",
    "INNER JOIN invoice_items\n",
    "ON invoice_items.TrackId = tracks.TrackId\n",
    "INNER JOIN invoices\n",
    "ON invoices.InvoiceId = invoice_items.InvoiceId\n",
    "INNER JOIN customers\n",
    "ON customers.CustomerId = invoices.CustomerId\n",
    "WHERE playlists.Name = 'Music' AND albums.Title = 'Big Ones'\n",
    "\"\"\", con=engine.connect())"
   ]
  },
  {
   "cell_type": "markdown",
   "id": "37da7066-15ad-4dab-a67e-700316ad2c25",
   "metadata": {},
   "source": [
    "# Load"
   ]
  },
  {
   "cell_type": "code",
   "execution_count": 14,
   "id": "985eb992-3a02-4142-82a3-83751bb577f3",
   "metadata": {},
   "outputs": [],
   "source": [
    "#Exportar el archivo en un formato a su elección.\n",
    "\n",
    "c1.to_csv('dataframeCn1.csv')\n",
    "c2.to_csv('dataframeCn2.csv')\n",
    "c3.to_csv('dataframeCn3.csv')\n",
    "c4.to_csv('dataframeCn4.csv')\n",
    "c5.to_csv('dataframeCn5.csv')\n",
    "c6.to_csv('dataframeCn6.csv')\n",
    "c7.to_csv('dataframeCn7.csv')\n",
    "c8.to_csv('dataframeCn8.csv')\n",
    "c9.to_csv('dataframeCn9.csv')\n",
    "c10.to_csv('dataframeCn10.csv')"
   ]
  }
 ],
 "metadata": {
  "kernelspec": {
   "display_name": "Python 3",
   "language": "python",
   "name": "python3"
  },
  "language_info": {
   "codemirror_mode": {
    "name": "ipython",
    "version": 3
   },
   "file_extension": ".py",
   "mimetype": "text/x-python",
   "name": "python",
   "nbconvert_exporter": "python",
   "pygments_lexer": "ipython3",
   "version": "3.7.8"
  }
 },
 "nbformat": 4,
 "nbformat_minor": 5
}
